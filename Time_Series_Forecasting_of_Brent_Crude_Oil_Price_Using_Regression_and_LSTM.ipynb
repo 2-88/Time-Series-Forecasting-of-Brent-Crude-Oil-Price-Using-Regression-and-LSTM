{
  "nbformat": 4,
  "nbformat_minor": 0,
  "metadata": {
    "colab": {
      "provenance": []
    },
    "kernelspec": {
      "name": "python3",
      "display_name": "Python 3"
    },
    "language_info": {
      "name": "python"
    }
  },
  "cells": [
    {
      "cell_type": "code",
      "execution_count": null,
      "metadata": {
        "id": "TpUk6DNihaJn"
      },
      "outputs": [],
      "source": [
        "import pandas as pd\n",
        "import matplotlib.pyplot as plt\n",
        "import datetime as dt\n",
        "from sklearn.linear_model import LinearRegression\n",
        "import numpy as np\n"
      ]
    },
    {
      "cell_type": "code",
      "source": [
        "# Loading the data into a dataframe\n",
        "data = pd.read_csv('/content/BrentOilPrices (1).csv')\n",
        "# displaying the fist five rows of the data\n",
        "data.head()"
      ],
      "metadata": {
        "colab": {
          "base_uri": "https://localhost:8080/",
          "height": 206
        },
        "id": "797mwBqOhjis",
        "outputId": "4af54462-32e4-4e56-c16f-4c9f1f8cab27"
      },
      "execution_count": null,
      "outputs": [
        {
          "output_type": "execute_result",
          "data": {
            "text/plain": [
              "           Date  Price\n",
              "0  May 20, 1987  18.63\n",
              "1  May 21, 1987  18.45\n",
              "2  May 22, 1987  18.55\n",
              "3  May 25, 1987  18.60\n",
              "4  May 26, 1987  18.63"
            ],
            "text/html": [
              "\n",
              "  <div id=\"df-e06befe5-08c4-4997-bc4a-a04ebf8199a4\">\n",
              "    <div class=\"colab-df-container\">\n",
              "      <div>\n",
              "<style scoped>\n",
              "    .dataframe tbody tr th:only-of-type {\n",
              "        vertical-align: middle;\n",
              "    }\n",
              "\n",
              "    .dataframe tbody tr th {\n",
              "        vertical-align: top;\n",
              "    }\n",
              "\n",
              "    .dataframe thead th {\n",
              "        text-align: right;\n",
              "    }\n",
              "</style>\n",
              "<table border=\"1\" class=\"dataframe\">\n",
              "  <thead>\n",
              "    <tr style=\"text-align: right;\">\n",
              "      <th></th>\n",
              "      <th>Date</th>\n",
              "      <th>Price</th>\n",
              "    </tr>\n",
              "  </thead>\n",
              "  <tbody>\n",
              "    <tr>\n",
              "      <th>0</th>\n",
              "      <td>May 20, 1987</td>\n",
              "      <td>18.63</td>\n",
              "    </tr>\n",
              "    <tr>\n",
              "      <th>1</th>\n",
              "      <td>May 21, 1987</td>\n",
              "      <td>18.45</td>\n",
              "    </tr>\n",
              "    <tr>\n",
              "      <th>2</th>\n",
              "      <td>May 22, 1987</td>\n",
              "      <td>18.55</td>\n",
              "    </tr>\n",
              "    <tr>\n",
              "      <th>3</th>\n",
              "      <td>May 25, 1987</td>\n",
              "      <td>18.60</td>\n",
              "    </tr>\n",
              "    <tr>\n",
              "      <th>4</th>\n",
              "      <td>May 26, 1987</td>\n",
              "      <td>18.63</td>\n",
              "    </tr>\n",
              "  </tbody>\n",
              "</table>\n",
              "</div>\n",
              "      <button class=\"colab-df-convert\" onclick=\"convertToInteractive('df-e06befe5-08c4-4997-bc4a-a04ebf8199a4')\"\n",
              "              title=\"Convert this dataframe to an interactive table.\"\n",
              "              style=\"display:none;\">\n",
              "        \n",
              "  <svg xmlns=\"http://www.w3.org/2000/svg\" height=\"24px\"viewBox=\"0 0 24 24\"\n",
              "       width=\"24px\">\n",
              "    <path d=\"M0 0h24v24H0V0z\" fill=\"none\"/>\n",
              "    <path d=\"M18.56 5.44l.94 2.06.94-2.06 2.06-.94-2.06-.94-.94-2.06-.94 2.06-2.06.94zm-11 1L8.5 8.5l.94-2.06 2.06-.94-2.06-.94L8.5 2.5l-.94 2.06-2.06.94zm10 10l.94 2.06.94-2.06 2.06-.94-2.06-.94-.94-2.06-.94 2.06-2.06.94z\"/><path d=\"M17.41 7.96l-1.37-1.37c-.4-.4-.92-.59-1.43-.59-.52 0-1.04.2-1.43.59L10.3 9.45l-7.72 7.72c-.78.78-.78 2.05 0 2.83L4 21.41c.39.39.9.59 1.41.59.51 0 1.02-.2 1.41-.59l7.78-7.78 2.81-2.81c.8-.78.8-2.07 0-2.86zM5.41 20L4 18.59l7.72-7.72 1.47 1.35L5.41 20z\"/>\n",
              "  </svg>\n",
              "      </button>\n",
              "      \n",
              "  <style>\n",
              "    .colab-df-container {\n",
              "      display:flex;\n",
              "      flex-wrap:wrap;\n",
              "      gap: 12px;\n",
              "    }\n",
              "\n",
              "    .colab-df-convert {\n",
              "      background-color: #E8F0FE;\n",
              "      border: none;\n",
              "      border-radius: 50%;\n",
              "      cursor: pointer;\n",
              "      display: none;\n",
              "      fill: #1967D2;\n",
              "      height: 32px;\n",
              "      padding: 0 0 0 0;\n",
              "      width: 32px;\n",
              "    }\n",
              "\n",
              "    .colab-df-convert:hover {\n",
              "      background-color: #E2EBFA;\n",
              "      box-shadow: 0px 1px 2px rgba(60, 64, 67, 0.3), 0px 1px 3px 1px rgba(60, 64, 67, 0.15);\n",
              "      fill: #174EA6;\n",
              "    }\n",
              "\n",
              "    [theme=dark] .colab-df-convert {\n",
              "      background-color: #3B4455;\n",
              "      fill: #D2E3FC;\n",
              "    }\n",
              "\n",
              "    [theme=dark] .colab-df-convert:hover {\n",
              "      background-color: #434B5C;\n",
              "      box-shadow: 0px 1px 3px 1px rgba(0, 0, 0, 0.15);\n",
              "      filter: drop-shadow(0px 1px 2px rgba(0, 0, 0, 0.3));\n",
              "      fill: #FFFFFF;\n",
              "    }\n",
              "  </style>\n",
              "\n",
              "      <script>\n",
              "        const buttonEl =\n",
              "          document.querySelector('#df-e06befe5-08c4-4997-bc4a-a04ebf8199a4 button.colab-df-convert');\n",
              "        buttonEl.style.display =\n",
              "          google.colab.kernel.accessAllowed ? 'block' : 'none';\n",
              "\n",
              "        async function convertToInteractive(key) {\n",
              "          const element = document.querySelector('#df-e06befe5-08c4-4997-bc4a-a04ebf8199a4');\n",
              "          const dataTable =\n",
              "            await google.colab.kernel.invokeFunction('convertToInteractive',\n",
              "                                                     [key], {});\n",
              "          if (!dataTable) return;\n",
              "\n",
              "          const docLinkHtml = 'Like what you see? Visit the ' +\n",
              "            '<a target=\"_blank\" href=https://colab.research.google.com/notebooks/data_table.ipynb>data table notebook</a>'\n",
              "            + ' to learn more about interactive tables.';\n",
              "          element.innerHTML = '';\n",
              "          dataTable['output_type'] = 'display_data';\n",
              "          await google.colab.output.renderOutput(dataTable, element);\n",
              "          const docLink = document.createElement('div');\n",
              "          docLink.innerHTML = docLinkHtml;\n",
              "          element.appendChild(docLink);\n",
              "        }\n",
              "      </script>\n",
              "    </div>\n",
              "  </div>\n",
              "  "
            ]
          },
          "metadata": {},
          "execution_count": 14
        }
      ]
    },
    {
      "cell_type": "code",
      "source": [
        "data.dtypes"
      ],
      "metadata": {
        "colab": {
          "base_uri": "https://localhost:8080/"
        },
        "id": "UrCJIXY7hzia",
        "outputId": "57a0f289-9e03-429a-e6d0-388ca1ef7727"
      },
      "execution_count": null,
      "outputs": [
        {
          "output_type": "execute_result",
          "data": {
            "text/plain": [
              "Date      object\n",
              "Price    float64\n",
              "dtype: object"
            ]
          },
          "metadata": {},
          "execution_count": 15
        }
      ]
    },
    {
      "cell_type": "code",
      "source": [
        "data['Date'] = pd.to_datetime(data['Date'])"
      ],
      "metadata": {
        "id": "CSUtlbvyiCx3"
      },
      "execution_count": null,
      "outputs": []
    },
    {
      "cell_type": "code",
      "source": [
        "# plotting a line graph for the using the date and price\n",
        "plt.figure(figsize=(10,5))\n",
        "plt.plot(data['Date'],data[\"Price\"])\n",
        "plt.xlabel('Date')\n",
        "plt.ylabel('Price')\n",
        "plt.title(\"Brent Oil Price Trend over the last 20 years \")\n",
        "plt.show()"
      ],
      "metadata": {
        "colab": {
          "base_uri": "https://localhost:8080/",
          "height": 350
        },
        "id": "5Kzs_jjHiRri",
        "outputId": "dc311dee-a8c1-4a6c-b4c0-506e04ce3951"
      },
      "execution_count": null,
      "outputs": [
        {
          "output_type": "display_data",
          "data": {
            "text/plain": [
              "<Figure size 720x360 with 1 Axes>"
            ],
            "image/png": "[encoded data removed]"
          },
          "metadata": {
            "needs_background": "light"
          }
        }
      ]
    },
    {
      "cell_type": "code",
      "source": [
        "# Using rolling window feature engineering method to create the two independent variables which are moving average for 3 days and 9 days\n",
        "data['MA3'] = data['Price'].rolling(window=3).mean()\n",
        "data['MA9'] = data['Price'].rolling(window=9).mean()\n",
        "# Displaying 5 rows and all columns of the data\n",
        "data.head()"
      ],
      "metadata": {
        "colab": {
          "base_uri": "https://localhost:8080/",
          "height": 206
        },
        "id": "2qUJhqGEilJw",
        "outputId": "338a1c5a-ebd5-4884-b30b-0e137b47f753"
      },
      "execution_count": null,
      "outputs": [
        {
          "output_type": "execute_result",
          "data": {
            "text/plain": [
              "        Date  Price        MA3  MA9\n",
              "0 1987-05-20  18.63        NaN  NaN\n",
              "1 1987-05-21  18.45        NaN  NaN\n",
              "2 1987-05-22  18.55  18.543333  NaN\n",
              "3 1987-05-25  18.60  18.533333  NaN\n",
              "4 1987-05-26  18.63  18.593333  NaN"
            ],
            "text/html": [
              "\n",
              "  <div id=\"df-ee6e789d-9e59-45d9-88b2-50eee0f22f57\">\n",
              "    <div class=\"colab-df-container\">\n",
              "      <div>\n",
              "<style scoped>\n",
              "    .dataframe tbody tr th:only-of-type {\n",
              "        vertical-align: middle;\n",
              "    }\n",
              "\n",
              "    .dataframe tbody tr th {\n",
              "        vertical-align: top;\n",
              "    }\n",
              "\n",
              "    .dataframe thead th {\n",
              "        text-align: right;\n",
              "    }\n",
              "</style>\n",
              "<table border=\"1\" class=\"dataframe\">\n",
              "  <thead>\n",
              "    <tr style=\"text-align: right;\">\n",
              "      <th></th>\n",
              "      <th>Date</th>\n",
              "      <th>Price</th>\n",
              "      <th>MA3</th>\n",
              "      <th>MA9</th>\n",
              "    </tr>\n",
              "  </thead>\n",
              "  <tbody>\n",
              "    <tr>\n",
              "      <th>0</th>\n",
              "      <td>1987-05-20</td>\n",
              "      <td>18.63</td>\n",
              "      <td>NaN</td>\n",
              "      <td>NaN</td>\n",
              "    </tr>\n",
              "    <tr>\n",
              "      <th>1</th>\n",
              "      <td>1987-05-21</td>\n",
              "      <td>18.45</td>\n",
              "      <td>NaN</td>\n",
              "      <td>NaN</td>\n",
              "    </tr>\n",
              "    <tr>\n",
              "      <th>2</th>\n",
              "      <td>1987-05-22</td>\n",
              "      <td>18.55</td>\n",
              "      <td>18.543333</td>\n",
              "      <td>NaN</td>\n",
              "    </tr>\n",
              "    <tr>\n",
              "      <th>3</th>\n",
              "      <td>1987-05-25</td>\n",
              "      <td>18.60</td>\n",
              "      <td>18.533333</td>\n",
              "      <td>NaN</td>\n",
              "    </tr>\n",
              "    <tr>\n",
              "      <th>4</th>\n",
              "      <td>1987-05-26</td>\n",
              "      <td>18.63</td>\n",
              "      <td>18.593333</td>\n",
              "      <td>NaN</td>\n",
              "    </tr>\n",
              "  </tbody>\n",
              "</table>\n",
              "</div>\n",
              "      <button class=\"colab-df-convert\" onclick=\"convertToInteractive('df-ee6e789d-9e59-45d9-88b2-50eee0f22f57')\"\n",
              "              title=\"Convert this dataframe to an interactive table.\"\n",
              "              style=\"display:none;\">\n",
              "        \n",
              "  <svg xmlns=\"http://www.w3.org/2000/svg\" height=\"24px\"viewBox=\"0 0 24 24\"\n",
              "       width=\"24px\">\n",
              "    <path d=\"M0 0h24v24H0V0z\" fill=\"none\"/>\n",
              "    <path d=\"M18.56 5.44l.94 2.06.94-2.06 2.06-.94-2.06-.94-.94-2.06-.94 2.06-2.06.94zm-11 1L8.5 8.5l.94-2.06 2.06-.94-2.06-.94L8.5 2.5l-.94 2.06-2.06.94zm10 10l.94 2.06.94-2.06 2.06-.94-2.06-.94-.94-2.06-.94 2.06-2.06.94z\"/><path d=\"M17.41 7.96l-1.37-1.37c-.4-.4-.92-.59-1.43-.59-.52 0-1.04.2-1.43.59L10.3 9.45l-7.72 7.72c-.78.78-.78 2.05 0 2.83L4 21.41c.39.39.9.59 1.41.59.51 0 1.02-.2 1.41-.59l7.78-7.78 2.81-2.81c.8-.78.8-2.07 0-2.86zM5.41 20L4 18.59l7.72-7.72 1.47 1.35L5.41 20z\"/>\n",
              "  </svg>\n",
              "      </button>\n",
              "      \n",
              "  <style>\n",
              "    .colab-df-container {\n",
              "      display:flex;\n",
              "      flex-wrap:wrap;\n",
              "      gap: 12px;\n",
              "    }\n",
              "\n",
              "    .colab-df-convert {\n",
              "      background-color: #E8F0FE;\n",
              "      border: none;\n",
              "      border-radius: 50%;\n",
              "      cursor: pointer;\n",
              "      display: none;\n",
              "      fill: #1967D2;\n",
              "      height: 32px;\n",
              "      padding: 0 0 0 0;\n",
              "      width: 32px;\n",
              "    }\n",
              "\n",
              "    .colab-df-convert:hover {\n",
              "      background-color: #E2EBFA;\n",
              "      box-shadow: 0px 1px 2px rgba(60, 64, 67, 0.3), 0px 1px 3px 1px rgba(60, 64, 67, 0.15);\n",
              "      fill: #174EA6;\n",
              "    }\n",
              "\n",
              "    [theme=dark] .colab-df-convert {\n",
              "      background-color: #3B4455;\n",
              "      fill: #D2E3FC;\n",
              "    }\n",
              "\n",
              "    [theme=dark] .colab-df-convert:hover {\n",
              "      background-color: #434B5C;\n",
              "      box-shadow: 0px 1px 3px 1px rgba(0, 0, 0, 0.15);\n",
              "      filter: drop-shadow(0px 1px 2px rgba(0, 0, 0, 0.3));\n",
              "      fill: #FFFFFF;\n",
              "    }\n",
              "  </style>\n",
              "\n",
              "      <script>\n",
              "        const buttonEl =\n",
              "          document.querySelector('#df-ee6e789d-9e59-45d9-88b2-50eee0f22f57 button.colab-df-convert');\n",
              "        buttonEl.style.display =\n",
              "          google.colab.kernel.accessAllowed ? 'block' : 'none';\n",
              "\n",
              "        async function convertToInteractive(key) {\n",
              "          const element = document.querySelector('#df-ee6e789d-9e59-45d9-88b2-50eee0f22f57');\n",
              "          const dataTable =\n",
              "            await google.colab.kernel.invokeFunction('convertToInteractive',\n",
              "                                                     [key], {});\n",
              "          if (!dataTable) return;\n",
              "\n",
              "          const docLinkHtml = 'Like what you see? Visit the ' +\n",
              "            '<a target=\"_blank\" href=https://colab.research.google.com/notebooks/data_table.ipynb>data table notebook</a>'\n",
              "            + ' to learn more about interactive tables.';\n",
              "          element.innerHTML = '';\n",
              "          dataTable['output_type'] = 'display_data';\n",
              "          await google.colab.output.renderOutput(dataTable, element);\n",
              "          const docLink = document.createElement('div');\n",
              "          docLink.innerHTML = docLinkHtml;\n",
              "          element.appendChild(docLink);\n",
              "        }\n",
              "      </script>\n",
              "    </div>\n",
              "  </div>\n",
              "  "
            ]
          },
          "metadata": {},
          "execution_count": 18
        }
      ]
    },
    {
      "cell_type": "code",
      "source": [
        "# Dropping missing values\n",
        "data = data.dropna()"
      ],
      "metadata": {
        "id": "73TXvZtMiqN1"
      },
      "execution_count": null,
      "outputs": []
    },
    {
      "cell_type": "code",
      "source": [
        "# checking whether missing values have been dropped\n",
        "data.head()"
      ],
      "metadata": {
        "colab": {
          "base_uri": "https://localhost:8080/",
          "height": 206
        },
        "id": "TVLhJ4WDivrE",
        "outputId": "49a27295-0312-4a7d-d94e-26ca3f851297"
      },
      "execution_count": null,
      "outputs": [
        {
          "output_type": "execute_result",
          "data": {
            "text/plain": [
              "         Date  Price        MA3        MA9\n",
              "8  1987-06-01  18.65  18.610000  18.587778\n",
              "9  1987-06-02  18.68  18.636667  18.593333\n",
              "10 1987-06-03  18.75  18.693333  18.626667\n",
              "11 1987-06-04  18.78  18.736667  18.652222\n",
              "12 1987-06-05  18.65  18.726667  18.657778"
            ],
            "text/html": [
              "\n",
              "  <div id=\"df-710af593-4ad4-4b3c-ba35-86114352d36c\">\n",
              "    <div class=\"colab-df-container\">\n",
              "      <div>\n",
              "<style scoped>\n",
              "    .dataframe tbody tr th:only-of-type {\n",
              "        vertical-align: middle;\n",
              "    }\n",
              "\n",
              "    .dataframe tbody tr th {\n",
              "        vertical-align: top;\n",
              "    }\n",
              "\n",
              "    .dataframe thead th {\n",
              "        text-align: right;\n",
              "    }\n",
              "</style>\n",
              "<table border=\"1\" class=\"dataframe\">\n",
              "  <thead>\n",
              "    <tr style=\"text-align: right;\">\n",
              "      <th></th>\n",
              "      <th>Date</th>\n",
              "      <th>Price</th>\n",
              "      <th>MA3</th>\n",
              "      <th>MA9</th>\n",
              "    </tr>\n",
              "  </thead>\n",
              "  <tbody>\n",
              "    <tr>\n",
              "      <th>8</th>\n",
              "      <td>1987-06-01</td>\n",
              "      <td>18.65</td>\n",
              "      <td>18.610000</td>\n",
              "      <td>18.587778</td>\n",
              "    </tr>\n",
              "    <tr>\n",
              "      <th>9</th>\n",
              "      <td>1987-06-02</td>\n",
              "      <td>18.68</td>\n",
              "      <td>18.636667</td>\n",
              "      <td>18.593333</td>\n",
              "    </tr>\n",
              "    <tr>\n",
              "      <th>10</th>\n",
              "      <td>1987-06-03</td>\n",
              "      <td>18.75</td>\n",
              "      <td>18.693333</td>\n",
              "      <td>18.626667</td>\n",
              "    </tr>\n",
              "    <tr>\n",
              "      <th>11</th>\n",
              "      <td>1987-06-04</td>\n",
              "      <td>18.78</td>\n",
              "      <td>18.736667</td>\n",
              "      <td>18.652222</td>\n",
              "    </tr>\n",
              "    <tr>\n",
              "      <th>12</th>\n",
              "      <td>1987-06-05</td>\n",
              "      <td>18.65</td>\n",
              "      <td>18.726667</td>\n",
              "      <td>18.657778</td>\n",
              "    </tr>\n",
              "  </tbody>\n",
              "</table>\n",
              "</div>\n",
              "      <button class=\"colab-df-convert\" onclick=\"convertToInteractive('df-710af593-4ad4-4b3c-ba35-86114352d36c')\"\n",
              "              title=\"Convert this dataframe to an interactive table.\"\n",
              "              style=\"display:none;\">\n",
              "        \n",
              "  <svg xmlns=\"http://www.w3.org/2000/svg\" height=\"24px\"viewBox=\"0 0 24 24\"\n",
              "       width=\"24px\">\n",
              "    <path d=\"M0 0h24v24H0V0z\" fill=\"none\"/>\n",
              "    <path d=\"M18.56 5.44l.94 2.06.94-2.06 2.06-.94-2.06-.94-.94-2.06-.94 2.06-2.06.94zm-11 1L8.5 8.5l.94-2.06 2.06-.94-2.06-.94L8.5 2.5l-.94 2.06-2.06.94zm10 10l.94 2.06.94-2.06 2.06-.94-2.06-.94-.94-2.06-.94 2.06-2.06.94z\"/><path d=\"M17.41 7.96l-1.37-1.37c-.4-.4-.92-.59-1.43-.59-.52 0-1.04.2-1.43.59L10.3 9.45l-7.72 7.72c-.78.78-.78 2.05 0 2.83L4 21.41c.39.39.9.59 1.41.59.51 0 1.02-.2 1.41-.59l7.78-7.78 2.81-2.81c.8-.78.8-2.07 0-2.86zM5.41 20L4 18.59l7.72-7.72 1.47 1.35L5.41 20z\"/>\n",
              "  </svg>\n",
              "      </button>\n",
              "      \n",
              "  <style>\n",
              "    .colab-df-container {\n",
              "      display:flex;\n",
              "      flex-wrap:wrap;\n",
              "      gap: 12px;\n",
              "    }\n",
              "\n",
              "    .colab-df-convert {\n",
              "      background-color: #E8F0FE;\n",
              "      border: none;\n",
              "      border-radius: 50%;\n",
              "      cursor: pointer;\n",
              "      display: none;\n",
              "      fill: #1967D2;\n",
              "      height: 32px;\n",
              "      padding: 0 0 0 0;\n",
              "      width: 32px;\n",
              "    }\n",
              "\n",
              "    .colab-df-convert:hover {\n",
              "      background-color: #E2EBFA;\n",
              "      box-shadow: 0px 1px 2px rgba(60, 64, 67, 0.3), 0px 1px 3px 1px rgba(60, 64, 67, 0.15);\n",
              "      fill: #174EA6;\n",
              "    }\n",
              "\n",
              "    [theme=dark] .colab-df-convert {\n",
              "      background-color: #3B4455;\n",
              "      fill: #D2E3FC;\n",
              "    }\n",
              "\n",
              "    [theme=dark] .colab-df-convert:hover {\n",
              "      background-color: #434B5C;\n",
              "      box-shadow: 0px 1px 3px 1px rgba(0, 0, 0, 0.15);\n",
              "      filter: drop-shadow(0px 1px 2px rgba(0, 0, 0, 0.3));\n",
              "      fill: #FFFFFF;\n",
              "    }\n",
              "  </style>\n",
              "\n",
              "      <script>\n",
              "        const buttonEl =\n",
              "          document.querySelector('#df-710af593-4ad4-4b3c-ba35-86114352d36c button.colab-df-convert');\n",
              "        buttonEl.style.display =\n",
              "          google.colab.kernel.accessAllowed ? 'block' : 'none';\n",
              "\n",
              "        async function convertToInteractive(key) {\n",
              "          const element = document.querySelector('#df-710af593-4ad4-4b3c-ba35-86114352d36c');\n",
              "          const dataTable =\n",
              "            await google.colab.kernel.invokeFunction('convertToInteractive',\n",
              "                                                     [key], {});\n",
              "          if (!dataTable) return;\n",
              "\n",
              "          const docLinkHtml = 'Like what you see? Visit the ' +\n",
              "            '<a target=\"_blank\" href=https://colab.research.google.com/notebooks/data_table.ipynb>data table notebook</a>'\n",
              "            + ' to learn more about interactive tables.';\n",
              "          element.innerHTML = '';\n",
              "          dataTable['output_type'] = 'display_data';\n",
              "          await google.colab.output.renderOutput(dataTable, element);\n",
              "          const docLink = document.createElement('div');\n",
              "          docLink.innerHTML = docLinkHtml;\n",
              "          element.appendChild(docLink);\n",
              "        }\n",
              "      </script>\n",
              "    </div>\n",
              "  </div>\n",
              "  "
            ]
          },
          "metadata": {},
          "execution_count": 20
        }
      ]
    },
    {
      "cell_type": "code",
      "source": [
        "data= data.set_index('Date')"
      ],
      "metadata": {
        "id": "QnAYrO-Ti444"
      },
      "execution_count": null,
      "outputs": []
    },
    {
      "cell_type": "code",
      "source": [
        "data.head()"
      ],
      "metadata": {
        "colab": {
          "base_uri": "https://localhost:8080/",
          "height": 237
        },
        "id": "QDKbcNtVjdyv",
        "outputId": "3081a71f-8c7d-4da3-af5b-2b80632a6aa7"
      },
      "execution_count": null,
      "outputs": [
        {
          "output_type": "execute_result",
          "data": {
            "text/plain": [
              "            Price        MA3        MA9\n",
              "Date                                   \n",
              "1987-06-01  18.65  18.610000  18.587778\n",
              "1987-06-02  18.68  18.636667  18.593333\n",
              "1987-06-03  18.75  18.693333  18.626667\n",
              "1987-06-04  18.78  18.736667  18.652222\n",
              "1987-06-05  18.65  18.726667  18.657778"
            ],
            "text/html": [
              "\n",
              "  <div id=\"df-b677e79f-f960-416d-8a66-baf632c31453\">\n",
              "    <div class=\"colab-df-container\">\n",
              "      <div>\n",
              "<style scoped>\n",
              "    .dataframe tbody tr th:only-of-type {\n",
              "        vertical-align: middle;\n",
              "    }\n",
              "\n",
              "    .dataframe tbody tr th {\n",
              "        vertical-align: top;\n",
              "    }\n",
              "\n",
              "    .dataframe thead th {\n",
              "        text-align: right;\n",
              "    }\n",
              "</style>\n",
              "<table border=\"1\" class=\"dataframe\">\n",
              "  <thead>\n",
              "    <tr style=\"text-align: right;\">\n",
              "      <th></th>\n",
              "      <th>Price</th>\n",
              "      <th>MA3</th>\n",
              "      <th>MA9</th>\n",
              "    </tr>\n",
              "    <tr>\n",
              "      <th>Date</th>\n",
              "      <th></th>\n",
              "      <th></th>\n",
              "      <th></th>\n",
              "    </tr>\n",
              "  </thead>\n",
              "  <tbody>\n",
              "    <tr>\n",
              "      <th>1987-06-01</th>\n",
              "      <td>18.65</td>\n",
              "      <td>18.610000</td>\n",
              "      <td>18.587778</td>\n",
              "    </tr>\n",
              "    <tr>\n",
              "      <th>1987-06-02</th>\n",
              "      <td>18.68</td>\n",
              "      <td>18.636667</td>\n",
              "      <td>18.593333</td>\n",
              "    </tr>\n",
              "    <tr>\n",
              "      <th>1987-06-03</th>\n",
              "      <td>18.75</td>\n",
              "      <td>18.693333</td>\n",
              "      <td>18.626667</td>\n",
              "    </tr>\n",
              "    <tr>\n",
              "      <th>1987-06-04</th>\n",
              "      <td>18.78</td>\n",
              "      <td>18.736667</td>\n",
              "      <td>18.652222</td>\n",
              "    </tr>\n",
              "    <tr>\n",
              "      <th>1987-06-05</th>\n",
              "      <td>18.65</td>\n",
              "      <td>18.726667</td>\n",
              "      <td>18.657778</td>\n",
              "    </tr>\n",
              "  </tbody>\n",
              "</table>\n",
              "</div>\n",
              "      <button class=\"colab-df-convert\" onclick=\"convertToInteractive('df-b677e79f-f960-416d-8a66-baf632c31453')\"\n",
              "              title=\"Convert this dataframe to an interactive table.\"\n",
              "              style=\"display:none;\">\n",
              "        \n",
              "  <svg xmlns=\"http://www.w3.org/2000/svg\" height=\"24px\"viewBox=\"0 0 24 24\"\n",
              "       width=\"24px\">\n",
              "    <path d=\"M0 0h24v24H0V0z\" fill=\"none\"/>\n",
              "    <path d=\"M18.56 5.44l.94 2.06.94-2.06 2.06-.94-2.06-.94-.94-2.06-.94 2.06-2.06.94zm-11 1L8.5 8.5l.94-2.06 2.06-.94-2.06-.94L8.5 2.5l-.94 2.06-2.06.94zm10 10l.94 2.06.94-2.06 2.06-.94-2.06-.94-.94-2.06-.94 2.06-2.06.94z\"/><path d=\"M17.41 7.96l-1.37-1.37c-.4-.4-.92-.59-1.43-.59-.52 0-1.04.2-1.43.59L10.3 9.45l-7.72 7.72c-.78.78-.78 2.05 0 2.83L4 21.41c.39.39.9.59 1.41.59.51 0 1.02-.2 1.41-.59l7.78-7.78 2.81-2.81c.8-.78.8-2.07 0-2.86zM5.41 20L4 18.59l7.72-7.72 1.47 1.35L5.41 20z\"/>\n",
              "  </svg>\n",
              "      </button>\n",
              "      \n",
              "  <style>\n",
              "    .colab-df-container {\n",
              "      display:flex;\n",
              "      flex-wrap:wrap;\n",
              "      gap: 12px;\n",
              "    }\n",
              "\n",
              "    .colab-df-convert {\n",
              "      background-color: #E8F0FE;\n",
              "      border: none;\n",
              "      border-radius: 50%;\n",
              "      cursor: pointer;\n",
              "      display: none;\n",
              "      fill: #1967D2;\n",
              "      height: 32px;\n",
              "      padding: 0 0 0 0;\n",
              "      width: 32px;\n",
              "    }\n",
              "\n",
              "    .colab-df-convert:hover {\n",
              "      background-color: #E2EBFA;\n",
              "      box-shadow: 0px 1px 2px rgba(60, 64, 67, 0.3), 0px 1px 3px 1px rgba(60, 64, 67, 0.15);\n",
              "      fill: #174EA6;\n",
              "    }\n",
              "\n",
              "    [theme=dark] .colab-df-convert {\n",
              "      background-color: #3B4455;\n",
              "      fill: #D2E3FC;\n",
              "    }\n",
              "\n",
              "    [theme=dark] .colab-df-convert:hover {\n",
              "      background-color: #434B5C;\n",
              "      box-shadow: 0px 1px 3px 1px rgba(0, 0, 0, 0.15);\n",
              "      filter: drop-shadow(0px 1px 2px rgba(0, 0, 0, 0.3));\n",
              "      fill: #FFFFFF;\n",
              "    }\n",
              "  </style>\n",
              "\n",
              "      <script>\n",
              "        const buttonEl =\n",
              "          document.querySelector('#df-b677e79f-f960-416d-8a66-baf632c31453 button.colab-df-convert');\n",
              "        buttonEl.style.display =\n",
              "          google.colab.kernel.accessAllowed ? 'block' : 'none';\n",
              "\n",
              "        async function convertToInteractive(key) {\n",
              "          const element = document.querySelector('#df-b677e79f-f960-416d-8a66-baf632c31453');\n",
              "          const dataTable =\n",
              "            await google.colab.kernel.invokeFunction('convertToInteractive',\n",
              "                                                     [key], {});\n",
              "          if (!dataTable) return;\n",
              "\n",
              "          const docLinkHtml = 'Like what you see? Visit the ' +\n",
              "            '<a target=\"_blank\" href=https://colab.research.google.com/notebooks/data_table.ipynb>data table notebook</a>'\n",
              "            + ' to learn more about interactive tables.';\n",
              "          element.innerHTML = '';\n",
              "          dataTable['output_type'] = 'display_data';\n",
              "          await google.colab.output.renderOutput(dataTable, element);\n",
              "          const docLink = document.createElement('div');\n",
              "          docLink.innerHTML = docLinkHtml;\n",
              "          element.appendChild(docLink);\n",
              "        }\n",
              "      </script>\n",
              "    </div>\n",
              "  </div>\n",
              "  "
            ]
          },
          "metadata": {},
          "execution_count": 22
        }
      ]
    },
    {
      "cell_type": "code",
      "source": [
        "# Define the Train and Test Data\n",
        "X = data[['MA3', 'MA9']]\n",
        "y = data['Price']"
      ],
      "metadata": {
        "id": "V3fbcqMMjfuH"
      },
      "execution_count": null,
      "outputs": []
    },
    {
      "cell_type": "code",
      "source": [
        "#  Splitting the data in Train and Test data sets\n",
        "from sklearn.model_selection import train_test_split\n",
        "X_train,X_test, y_train, y_test = train_test_split(X, y, random_state=50, test_size = 0.2)"
      ],
      "metadata": {
        "id": "Gx9f0cm-jlGG"
      },
      "execution_count": null,
      "outputs": []
    },
    {
      "cell_type": "code",
      "source": [
        "# Instantiating the Regression Model\n",
        "model = LinearRegression()"
      ],
      "metadata": {
        "id": "4mfQCY6sjpX3"
      },
      "execution_count": null,
      "outputs": []
    },
    {
      "cell_type": "code",
      "source": [
        "# Fitting the Model on Train Set\n",
        "model.fit(X_train, y_train)"
      ],
      "metadata": {
        "colab": {
          "base_uri": "https://localhost:8080/"
        },
        "id": "NtKBmyuWjuRk",
        "outputId": "23efbaf3-18da-4e44-9a58-e259610f5d0b"
      },
      "execution_count": null,
      "outputs": [
        {
          "output_type": "execute_result",
          "data": {
            "text/plain": [
              "LinearRegression()"
            ]
          },
          "metadata": {},
          "execution_count": 26
        }
      ]
    },
    {
      "cell_type": "code",
      "source": [
        "# Making predictions with with regression model on the train data set\n",
        "y_pred_train = model.predict(X_train)\n",
        "data.head()"
      ],
      "metadata": {
        "colab": {
          "base_uri": "https://localhost:8080/",
          "height": 237
        },
        "id": "0UZ0esfBkIam",
        "outputId": "0390d939-9dc4-40a0-fdd2-3e16e30dd8d3"
      },
      "execution_count": null,
      "outputs": [
        {
          "output_type": "execute_result",
          "data": {
            "text/plain": [
              "            Price        MA3        MA9\n",
              "Date                                   \n",
              "1987-06-01  18.65  18.610000  18.587778\n",
              "1987-06-02  18.68  18.636667  18.593333\n",
              "1987-06-03  18.75  18.693333  18.626667\n",
              "1987-06-04  18.78  18.736667  18.652222\n",
              "1987-06-05  18.65  18.726667  18.657778"
            ],
            "text/html": [
              "\n",
              "  <div id=\"df-b93037f1-80c1-48bc-bf2a-4c12bd4ef318\">\n",
              "    <div class=\"colab-df-container\">\n",
              "      <div>\n",
              "<style scoped>\n",
              "    .dataframe tbody tr th:only-of-type {\n",
              "        vertical-align: middle;\n",
              "    }\n",
              "\n",
              "    .dataframe tbody tr th {\n",
              "        vertical-align: top;\n",
              "    }\n",
              "\n",
              "    .dataframe thead th {\n",
              "        text-align: right;\n",
              "    }\n",
              "</style>\n",
              "<table border=\"1\" class=\"dataframe\">\n",
              "  <thead>\n",
              "    <tr style=\"text-align: right;\">\n",
              "      <th></th>\n",
              "      <th>Price</th>\n",
              "      <th>MA3</th>\n",
              "      <th>MA9</th>\n",
              "    </tr>\n",
              "    <tr>\n",
              "      <th>Date</th>\n",
              "      <th></th>\n",
              "      <th></th>\n",
              "      <th></th>\n",
              "    </tr>\n",
              "  </thead>\n",
              "  <tbody>\n",
              "    <tr>\n",
              "      <th>1987-06-01</th>\n",
              "      <td>18.65</td>\n",
              "      <td>18.610000</td>\n",
              "      <td>18.587778</td>\n",
              "    </tr>\n",
              "    <tr>\n",
              "      <th>1987-06-02</th>\n",
              "      <td>18.68</td>\n",
              "      <td>18.636667</td>\n",
              "      <td>18.593333</td>\n",
              "    </tr>\n",
              "    <tr>\n",
              "      <th>1987-06-03</th>\n",
              "      <td>18.75</td>\n",
              "      <td>18.693333</td>\n",
              "      <td>18.626667</td>\n",
              "    </tr>\n",
              "    <tr>\n",
              "      <th>1987-06-04</th>\n",
              "      <td>18.78</td>\n",
              "      <td>18.736667</td>\n",
              "      <td>18.652222</td>\n",
              "    </tr>\n",
              "    <tr>\n",
              "      <th>1987-06-05</th>\n",
              "      <td>18.65</td>\n",
              "      <td>18.726667</td>\n",
              "      <td>18.657778</td>\n",
              "    </tr>\n",
              "  </tbody>\n",
              "</table>\n",
              "</div>\n",
              "      <button class=\"colab-df-convert\" onclick=\"convertToInteractive('df-b93037f1-80c1-48bc-bf2a-4c12bd4ef318')\"\n",
              "              title=\"Convert this dataframe to an interactive table.\"\n",
              "              style=\"display:none;\">\n",
              "        \n",
              "  <svg xmlns=\"http://www.w3.org/2000/svg\" height=\"24px\"viewBox=\"0 0 24 24\"\n",
              "       width=\"24px\">\n",
              "    <path d=\"M0 0h24v24H0V0z\" fill=\"none\"/>\n",
              "    <path d=\"M18.56 5.44l.94 2.06.94-2.06 2.06-.94-2.06-.94-.94-2.06-.94 2.06-2.06.94zm-11 1L8.5 8.5l.94-2.06 2.06-.94-2.06-.94L8.5 2.5l-.94 2.06-2.06.94zm10 10l.94 2.06.94-2.06 2.06-.94-2.06-.94-.94-2.06-.94 2.06-2.06.94z\"/><path d=\"M17.41 7.96l-1.37-1.37c-.4-.4-.92-.59-1.43-.59-.52 0-1.04.2-1.43.59L10.3 9.45l-7.72 7.72c-.78.78-.78 2.05 0 2.83L4 21.41c.39.39.9.59 1.41.59.51 0 1.02-.2 1.41-.59l7.78-7.78 2.81-2.81c.8-.78.8-2.07 0-2.86zM5.41 20L4 18.59l7.72-7.72 1.47 1.35L5.41 20z\"/>\n",
              "  </svg>\n",
              "      </button>\n",
              "      \n",
              "  <style>\n",
              "    .colab-df-container {\n",
              "      display:flex;\n",
              "      flex-wrap:wrap;\n",
              "      gap: 12px;\n",
              "    }\n",
              "\n",
              "    .colab-df-convert {\n",
              "      background-color: #E8F0FE;\n",
              "      border: none;\n",
              "      border-radius: 50%;\n",
              "      cursor: pointer;\n",
              "      display: none;\n",
              "      fill: #1967D2;\n",
              "      height: 32px;\n",
              "      padding: 0 0 0 0;\n",
              "      width: 32px;\n",
              "    }\n",
              "\n",
              "    .colab-df-convert:hover {\n",
              "      background-color: #E2EBFA;\n",
              "      box-shadow: 0px 1px 2px rgba(60, 64, 67, 0.3), 0px 1px 3px 1px rgba(60, 64, 67, 0.15);\n",
              "      fill: #174EA6;\n",
              "    }\n",
              "\n",
              "    [theme=dark] .colab-df-convert {\n",
              "      background-color: #3B4455;\n",
              "      fill: #D2E3FC;\n",
              "    }\n",
              "\n",
              "    [theme=dark] .colab-df-convert:hover {\n",
              "      background-color: #434B5C;\n",
              "      box-shadow: 0px 1px 3px 1px rgba(0, 0, 0, 0.15);\n",
              "      filter: drop-shadow(0px 1px 2px rgba(0, 0, 0, 0.3));\n",
              "      fill: #FFFFFF;\n",
              "    }\n",
              "  </style>\n",
              "\n",
              "      <script>\n",
              "        const buttonEl =\n",
              "          document.querySelector('#df-b93037f1-80c1-48bc-bf2a-4c12bd4ef318 button.colab-df-convert');\n",
              "        buttonEl.style.display =\n",
              "          google.colab.kernel.accessAllowed ? 'block' : 'none';\n",
              "\n",
              "        async function convertToInteractive(key) {\n",
              "          const element = document.querySelector('#df-b93037f1-80c1-48bc-bf2a-4c12bd4ef318');\n",
              "          const dataTable =\n",
              "            await google.colab.kernel.invokeFunction('convertToInteractive',\n",
              "                                                     [key], {});\n",
              "          if (!dataTable) return;\n",
              "\n",
              "          const docLinkHtml = 'Like what you see? Visit the ' +\n",
              "            '<a target=\"_blank\" href=https://colab.research.google.com/notebooks/data_table.ipynb>data table notebook</a>'\n",
              "            + ' to learn more about interactive tables.';\n",
              "          element.innerHTML = '';\n",
              "          dataTable['output_type'] = 'display_data';\n",
              "          await google.colab.output.renderOutput(dataTable, element);\n",
              "          const docLink = document.createElement('div');\n",
              "          docLink.innerHTML = docLinkHtml;\n",
              "          element.appendChild(docLink);\n",
              "        }\n",
              "      </script>\n",
              "    </div>\n",
              "  </div>\n",
              "  "
            ]
          },
          "metadata": {},
          "execution_count": 27
        }
      ]
    },
    {
      "cell_type": "code",
      "source": [
        "# Evaluating the performance of the regression model on the train data set\n",
        "import sklearn.metrics as sm\n",
        "r2_train = sm.r2_score(y_train, y_pred_train)\n",
        "mse_train = sm.mean_squared_error(y_train, y_pred_train)"
      ],
      "metadata": {
        "id": "qWLBImxekOPI"
      },
      "execution_count": null,
      "outputs": []
    },
    {
      "cell_type": "code",
      "source": [
        "#Performance on train data set\n",
        "print(\"r2_score:\", r2_train)\n",
        "print(\"mse:\", mse_train)"
      ],
      "metadata": {
        "colab": {
          "base_uri": "https://localhost:8080/"
        },
        "id": "qhvqKhwjkVns",
        "outputId": "aacad922-374e-49b6-9554-370cf586b55b"
      },
      "execution_count": null,
      "outputs": [
        {
          "output_type": "stream",
          "name": "stdout",
          "text": [
            "r2_score: 0.9994551168004602\n",
            "mse: 0.5803044514228923\n"
          ]
        }
      ]
    },
    {
      "cell_type": "code",
      "source": [
        "# Making Predictions on Test Set\n",
        "y_pred_test = model.predict(X_test)"
      ],
      "metadata": {
        "id": "NLFQh9z_kYJN"
      },
      "execution_count": null,
      "outputs": []
    },
    {
      "cell_type": "code",
      "source": [
        "# Creating data frame for the predictions made and the actual values\n",
        "data = pd.DataFrame(data={'predictions': y_pred_test, 'actual': y_test},index=y_test.index)\n",
        "data.head()"
      ],
      "metadata": {
        "colab": {
          "base_uri": "https://localhost:8080/",
          "height": 237
        },
        "id": "4DKzPFOdkdDN",
        "outputId": "c12f9884-8ccb-4cf9-a484-47563bfb2317"
      },
      "execution_count": null,
      "outputs": [
        {
          "output_type": "execute_result",
          "data": {
            "text/plain": [
              "            predictions  actual\n",
              "Date                           \n",
              "2008-02-29    99.978471  100.90\n",
              "2018-11-08    69.447554   69.29\n",
              "2008-04-21   111.463988  111.35\n",
              "1990-07-24    18.808847   19.08\n",
              "2015-07-07    56.477477   54.72"
            ],
            "text/html": [
              "\n",
              "  <div id=\"df-8a008f79-9822-4512-aadb-9c212bdceef9\">\n",
              "    <div class=\"colab-df-container\">\n",
              "      <div>\n",
              "<style scoped>\n",
              "    .dataframe tbody tr th:only-of-type {\n",
              "        vertical-align: middle;\n",
              "    }\n",
              "\n",
              "    .dataframe tbody tr th {\n",
              "        vertical-align: top;\n",
              "    }\n",
              "\n",
              "    .dataframe thead th {\n",
              "        text-align: right;\n",
              "    }\n",
              "</style>\n",
              "<table border=\"1\" class=\"dataframe\">\n",
              "  <thead>\n",
              "    <tr style=\"text-align: right;\">\n",
              "      <th></th>\n",
              "      <th>predictions</th>\n",
              "      <th>actual</th>\n",
              "    </tr>\n",
              "    <tr>\n",
              "      <th>Date</th>\n",
              "      <th></th>\n",
              "      <th></th>\n",
              "    </tr>\n",
              "  </thead>\n",
              "  <tbody>\n",
              "    <tr>\n",
              "      <th>2008-02-29</th>\n",
              "      <td>99.978471</td>\n",
              "      <td>100.90</td>\n",
              "    </tr>\n",
              "    <tr>\n",
              "      <th>2018-11-08</th>\n",
              "      <td>69.447554</td>\n",
              "      <td>69.29</td>\n",
              "    </tr>\n",
              "    <tr>\n",
              "      <th>2008-04-21</th>\n",
              "      <td>111.463988</td>\n",
              "      <td>111.35</td>\n",
              "    </tr>\n",
              "    <tr>\n",
              "      <th>1990-07-24</th>\n",
              "      <td>18.808847</td>\n",
              "      <td>19.08</td>\n",
              "    </tr>\n",
              "    <tr>\n",
              "      <th>2015-07-07</th>\n",
              "      <td>56.477477</td>\n",
              "      <td>54.72</td>\n",
              "    </tr>\n",
              "  </tbody>\n",
              "</table>\n",
              "</div>\n",
              "      <button class=\"colab-df-convert\" onclick=\"convertToInteractive('df-8a008f79-9822-4512-aadb-9c212bdceef9')\"\n",
              "              title=\"Convert this dataframe to an interactive table.\"\n",
              "              style=\"display:none;\">\n",
              "        \n",
              "  <svg xmlns=\"http://www.w3.org/2000/svg\" height=\"24px\"viewBox=\"0 0 24 24\"\n",
              "       width=\"24px\">\n",
              "    <path d=\"M0 0h24v24H0V0z\" fill=\"none\"/>\n",
              "    <path d=\"M18.56 5.44l.94 2.06.94-2.06 2.06-.94-2.06-.94-.94-2.06-.94 2.06-2.06.94zm-11 1L8.5 8.5l.94-2.06 2.06-.94-2.06-.94L8.5 2.5l-.94 2.06-2.06.94zm10 10l.94 2.06.94-2.06 2.06-.94-2.06-.94-.94-2.06-.94 2.06-2.06.94z\"/><path d=\"M17.41 7.96l-1.37-1.37c-.4-.4-.92-.59-1.43-.59-.52 0-1.04.2-1.43.59L10.3 9.45l-7.72 7.72c-.78.78-.78 2.05 0 2.83L4 21.41c.39.39.9.59 1.41.59.51 0 1.02-.2 1.41-.59l7.78-7.78 2.81-2.81c.8-.78.8-2.07 0-2.86zM5.41 20L4 18.59l7.72-7.72 1.47 1.35L5.41 20z\"/>\n",
              "  </svg>\n",
              "      </button>\n",
              "      \n",
              "  <style>\n",
              "    .colab-df-container {\n",
              "      display:flex;\n",
              "      flex-wrap:wrap;\n",
              "      gap: 12px;\n",
              "    }\n",
              "\n",
              "    .colab-df-convert {\n",
              "      background-color: #E8F0FE;\n",
              "      border: none;\n",
              "      border-radius: 50%;\n",
              "      cursor: pointer;\n",
              "      display: none;\n",
              "      fill: #1967D2;\n",
              "      height: 32px;\n",
              "      padding: 0 0 0 0;\n",
              "      width: 32px;\n",
              "    }\n",
              "\n",
              "    .colab-df-convert:hover {\n",
              "      background-color: #E2EBFA;\n",
              "      box-shadow: 0px 1px 2px rgba(60, 64, 67, 0.3), 0px 1px 3px 1px rgba(60, 64, 67, 0.15);\n",
              "      fill: #174EA6;\n",
              "    }\n",
              "\n",
              "    [theme=dark] .colab-df-convert {\n",
              "      background-color: #3B4455;\n",
              "      fill: #D2E3FC;\n",
              "    }\n",
              "\n",
              "    [theme=dark] .colab-df-convert:hover {\n",
              "      background-color: #434B5C;\n",
              "      box-shadow: 0px 1px 3px 1px rgba(0, 0, 0, 0.15);\n",
              "      filter: drop-shadow(0px 1px 2px rgba(0, 0, 0, 0.3));\n",
              "      fill: #FFFFFF;\n",
              "    }\n",
              "  </style>\n",
              "\n",
              "      <script>\n",
              "        const buttonEl =\n",
              "          document.querySelector('#df-8a008f79-9822-4512-aadb-9c212bdceef9 button.colab-df-convert');\n",
              "        buttonEl.style.display =\n",
              "          google.colab.kernel.accessAllowed ? 'block' : 'none';\n",
              "\n",
              "        async function convertToInteractive(key) {\n",
              "          const element = document.querySelector('#df-8a008f79-9822-4512-aadb-9c212bdceef9');\n",
              "          const dataTable =\n",
              "            await google.colab.kernel.invokeFunction('convertToInteractive',\n",
              "                                                     [key], {});\n",
              "          if (!dataTable) return;\n",
              "\n",
              "          const docLinkHtml = 'Like what you see? Visit the ' +\n",
              "            '<a target=\"_blank\" href=https://colab.research.google.com/notebooks/data_table.ipynb>data table notebook</a>'\n",
              "            + ' to learn more about interactive tables.';\n",
              "          element.innerHTML = '';\n",
              "          dataTable['output_type'] = 'display_data';\n",
              "          await google.colab.output.renderOutput(dataTable, element);\n",
              "          const docLink = document.createElement('div');\n",
              "          docLink.innerHTML = docLinkHtml;\n",
              "          element.appendChild(docLink);\n",
              "        }\n",
              "      </script>\n",
              "    </div>\n",
              "  </div>\n",
              "  "
            ]
          },
          "metadata": {},
          "execution_count": 31
        }
      ]
    },
    {
      "cell_type": "code",
      "source": [
        "#Visualizing the Actua Price and the Predicted Price\n",
        "predicted_price = model.predict(X_test)\n",
        "predicted_price = pd.DataFrame(predicted_price,index=y_test.index,columns = ['price'])\n",
        "predicted_price.plot(figsize=(10,5))\n",
        "y_test.plot()\n",
        "plt.legend(['Predicted Price','Actual Price'])\n",
        "plt.ylabel(\"Crude Oil Prices: Brent - Europe\")\n",
        "plt.show()"
      ],
      "metadata": {
        "colab": {
          "base_uri": "https://localhost:8080/",
          "height": 318
        },
        "id": "xwHATvl2kqNK",
        "outputId": "2baeea67-7e85-40fd-c2de-e43a12f65c83"
      },
      "execution_count": null,
      "outputs": [
        {
          "output_type": "display_data",
          "data": {
            "text/plain": [
              "<Figure size 720x360 with 1 Axes>"
            ],
            "image/png": "[encoded data removed]"
          },
          "metadata": {
            "needs_background": "light"
          }
        }
      ]
    },
    {
      "cell_type": "code",
      "source": [
        "#Evaluating the performance of the regression model on the test data set\n",
        "r2_test = sm.r2_score(y_test, y_pred_test)\n",
        "mse_test = sm.mean_squared_error(y_test, y_pred_test)"
      ],
      "metadata": {
        "id": "e-PYOxQUkzsL"
      },
      "execution_count": null,
      "outputs": []
    },
    {
      "cell_type": "code",
      "source": [
        "#Performance on test data set\n",
        "print(\"r2_score:\", r2_test)\n",
        "print(\"mse:\", mse_test)\n",
        "print(\"Mean absolute error =\", round(sm.mean_absolute_error(y_test, y_pred_test), 1))"
      ],
      "metadata": {
        "colab": {
          "base_uri": "https://localhost:8080/"
        },
        "id": "PmgdykwfuXSI",
        "outputId": "4fc3217f-271f-4bf9-f7c2-2c161fd92ba1"
      },
      "execution_count": null,
      "outputs": [
        {
          "output_type": "stream",
          "name": "stdout",
          "text": [
            "r2_score: 0.9994595411972406\n",
            "mse: 0.5877308967293488\n",
            "Mean absolute error = 0.5\n"
          ]
        }
      ]
    },
    {
      "cell_type": "code",
      "source": [
        "# Estimating the values of the slope and intercept\n",
        "slope = model.coef_\n",
        "y_intercept = model.intercept_"
      ],
      "metadata": {
        "id": "kdCGSBJIkAMD"
      },
      "execution_count": null,
      "outputs": []
    },
    {
      "cell_type": "code",
      "source": [
        "#Printing the regression model\n",
        "print(\"slope:\",slope)\n",
        "print(\"y_intercept:\",y_intercept)"
      ],
      "metadata": {
        "colab": {
          "base_uri": "https://localhost:8080/"
        },
        "id": "Fv-ZqzfFkENL",
        "outputId": "2c8fdd1f-e3db-4f7d-e328-c34cce4f6d42"
      },
      "execution_count": null,
      "outputs": [
        {
          "output_type": "stream",
          "name": "stdout",
          "text": [
            "slope: [ 1.21891812 -0.21919833]\n",
            "y_intercept: 0.018806700255353803\n"
          ]
        }
      ]
    },
    {
      "cell_type": "code",
      "source": [
        "#Using Durbin-Watson test to test for Autocorrelation in the Brent Oil Prices\n"
      ],
      "metadata": {
        "id": "ytcgQUgYy9VQ"
      },
      "execution_count": null,
      "outputs": []
    },
    {
      "cell_type": "markdown",
      "source": [
        "LSTM NEURAL NETWORKS"
      ],
      "metadata": {
        "id": "xXxzNd8zlY5L"
      }
    },
    {
      "cell_type": "code",
      "source": [
        "# reading the data into a dataframe\n",
        "data= pd.read_csv('/content/BrentOilPrices (1).csv')\n",
        "# displaying the fist five rows of the data\n",
        "data.head()"
      ],
      "metadata": {
        "id": "4lnZtc-Qk99R",
        "colab": {
          "base_uri": "https://localhost:8080/",
          "height": 206
        },
        "outputId": "6706fc4e-5008-4dc3-fa50-d1627c84b69e"
      },
      "execution_count": null,
      "outputs": [
        {
          "output_type": "execute_result",
          "data": {
            "text/plain": [
              "           Date  Price\n",
              "0  May 20, 1987  18.63\n",
              "1  May 21, 1987  18.45\n",
              "2  May 22, 1987  18.55\n",
              "3  May 25, 1987  18.60\n",
              "4  May 26, 1987  18.63"
            ],
            "text/html": [
              "\n",
              "  <div id=\"df-06734ffc-0ef1-487d-89dd-934e35a84fa4\">\n",
              "    <div class=\"colab-df-container\">\n",
              "      <div>\n",
              "<style scoped>\n",
              "    .dataframe tbody tr th:only-of-type {\n",
              "        vertical-align: middle;\n",
              "    }\n",
              "\n",
              "    .dataframe tbody tr th {\n",
              "        vertical-align: top;\n",
              "    }\n",
              "\n",
              "    .dataframe thead th {\n",
              "        text-align: right;\n",
              "    }\n",
              "</style>\n",
              "<table border=\"1\" class=\"dataframe\">\n",
              "  <thead>\n",
              "    <tr style=\"text-align: right;\">\n",
              "      <th></th>\n",
              "      <th>Date</th>\n",
              "      <th>Price</th>\n",
              "    </tr>\n",
              "  </thead>\n",
              "  <tbody>\n",
              "    <tr>\n",
              "      <th>0</th>\n",
              "      <td>May 20, 1987</td>\n",
              "      <td>18.63</td>\n",
              "    </tr>\n",
              "    <tr>\n",
              "      <th>1</th>\n",
              "      <td>May 21, 1987</td>\n",
              "      <td>18.45</td>\n",
              "    </tr>\n",
              "    <tr>\n",
              "      <th>2</th>\n",
              "      <td>May 22, 1987</td>\n",
              "      <td>18.55</td>\n",
              "    </tr>\n",
              "    <tr>\n",
              "      <th>3</th>\n",
              "      <td>May 25, 1987</td>\n",
              "      <td>18.60</td>\n",
              "    </tr>\n",
              "    <tr>\n",
              "      <th>4</th>\n",
              "      <td>May 26, 1987</td>\n",
              "      <td>18.63</td>\n",
              "    </tr>\n",
              "  </tbody>\n",
              "</table>\n",
              "</div>\n",
              "      <button class=\"colab-df-convert\" onclick=\"convertToInteractive('df-06734ffc-0ef1-487d-89dd-934e35a84fa4')\"\n",
              "              title=\"Convert this dataframe to an interactive table.\"\n",
              "              style=\"display:none;\">\n",
              "        \n",
              "  <svg xmlns=\"http://www.w3.org/2000/svg\" height=\"24px\"viewBox=\"0 0 24 24\"\n",
              "       width=\"24px\">\n",
              "    <path d=\"M0 0h24v24H0V0z\" fill=\"none\"/>\n",
              "    <path d=\"M18.56 5.44l.94 2.06.94-2.06 2.06-.94-2.06-.94-.94-2.06-.94 2.06-2.06.94zm-11 1L8.5 8.5l.94-2.06 2.06-.94-2.06-.94L8.5 2.5l-.94 2.06-2.06.94zm10 10l.94 2.06.94-2.06 2.06-.94-2.06-.94-.94-2.06-.94 2.06-2.06.94z\"/><path d=\"M17.41 7.96l-1.37-1.37c-.4-.4-.92-.59-1.43-.59-.52 0-1.04.2-1.43.59L10.3 9.45l-7.72 7.72c-.78.78-.78 2.05 0 2.83L4 21.41c.39.39.9.59 1.41.59.51 0 1.02-.2 1.41-.59l7.78-7.78 2.81-2.81c.8-.78.8-2.07 0-2.86zM5.41 20L4 18.59l7.72-7.72 1.47 1.35L5.41 20z\"/>\n",
              "  </svg>\n",
              "      </button>\n",
              "      \n",
              "  <style>\n",
              "    .colab-df-container {\n",
              "      display:flex;\n",
              "      flex-wrap:wrap;\n",
              "      gap: 12px;\n",
              "    }\n",
              "\n",
              "    .colab-df-convert {\n",
              "      background-color: #E8F0FE;\n",
              "      border: none;\n",
              "      border-radius: 50%;\n",
              "      cursor: pointer;\n",
              "      display: none;\n",
              "      fill: #1967D2;\n",
              "      height: 32px;\n",
              "      padding: 0 0 0 0;\n",
              "      width: 32px;\n",
              "    }\n",
              "\n",
              "    .colab-df-convert:hover {\n",
              "      background-color: #E2EBFA;\n",
              "      box-shadow: 0px 1px 2px rgba(60, 64, 67, 0.3), 0px 1px 3px 1px rgba(60, 64, 67, 0.15);\n",
              "      fill: #174EA6;\n",
              "    }\n",
              "\n",
              "    [theme=dark] .colab-df-convert {\n",
              "      background-color: #3B4455;\n",
              "      fill: #D2E3FC;\n",
              "    }\n",
              "\n",
              "    [theme=dark] .colab-df-convert:hover {\n",
              "      background-color: #434B5C;\n",
              "      box-shadow: 0px 1px 3px 1px rgba(0, 0, 0, 0.15);\n",
              "      filter: drop-shadow(0px 1px 2px rgba(0, 0, 0, 0.3));\n",
              "      fill: #FFFFFF;\n",
              "    }\n",
              "  </style>\n",
              "\n",
              "      <script>\n",
              "        const buttonEl =\n",
              "          document.querySelector('#df-06734ffc-0ef1-487d-89dd-934e35a84fa4 button.colab-df-convert');\n",
              "        buttonEl.style.display =\n",
              "          google.colab.kernel.accessAllowed ? 'block' : 'none';\n",
              "\n",
              "        async function convertToInteractive(key) {\n",
              "          const element = document.querySelector('#df-06734ffc-0ef1-487d-89dd-934e35a84fa4');\n",
              "          const dataTable =\n",
              "            await google.colab.kernel.invokeFunction('convertToInteractive',\n",
              "                                                     [key], {});\n",
              "          if (!dataTable) return;\n",
              "\n",
              "          const docLinkHtml = 'Like what you see? Visit the ' +\n",
              "            '<a target=\"_blank\" href=https://colab.research.google.com/notebooks/data_table.ipynb>data table notebook</a>'\n",
              "            + ' to learn more about interactive tables.';\n",
              "          element.innerHTML = '';\n",
              "          dataTable['output_type'] = 'display_data';\n",
              "          await google.colab.output.renderOutput(dataTable, element);\n",
              "          const docLink = document.createElement('div');\n",
              "          docLink.innerHTML = docLinkHtml;\n",
              "          element.appendChild(docLink);\n",
              "        }\n",
              "      </script>\n",
              "    </div>\n",
              "  </div>\n",
              "  "
            ]
          },
          "metadata": {},
          "execution_count": 38
        }
      ]
    },
    {
      "cell_type": "code",
      "source": [
        "data['Date'] = pd.to_datetime(data['Date'])"
      ],
      "metadata": {
        "id": "8ZG-SEyrmX50"
      },
      "execution_count": null,
      "outputs": []
    },
    {
      "cell_type": "code",
      "source": [
        "#Indexing the date\n",
        "data= data.set_index('Date')"
      ],
      "metadata": {
        "id": "AkwV7s3DmeS0"
      },
      "execution_count": null,
      "outputs": []
    },
    {
      "cell_type": "code",
      "source": [
        "from sklearn.preprocessing import MinMaxScaler"
      ],
      "metadata": {
        "id": "Rj3gITSQvLQb"
      },
      "execution_count": null,
      "outputs": []
    },
    {
      "cell_type": "code",
      "source": [
        "# normalize the dataset\n",
        "scaler = MinMaxScaler(feature_range=(0, 1))\n",
        "df = scaler.fit_transform(data)\n"
      ],
      "metadata": {
        "id": "SXNdKwiPuPcL"
      },
      "execution_count": null,
      "outputs": []
    },
    {
      "cell_type": "code",
      "source": [
        "# split into train and test sets\n",
        "train_size = int(len(df) * 0.67)\n",
        "test_size = len(df) - train_size\n",
        "train, test = df[0:train_size], df[train_size:len(df)]\n",
        "print(len(train), len(test))"
      ],
      "metadata": {
        "id": "SyQKx2gAmm-P",
        "colab": {
          "base_uri": "https://localhost:8080/"
        },
        "outputId": "fd47ae77-53db-4c07-de66-db494ad711f5"
      },
      "execution_count": null,
      "outputs": [
        {
          "output_type": "stream",
          "name": "stdout",
          "text": [
            "5504 2712\n"
          ]
        }
      ]
    },
    {
      "cell_type": "code",
      "source": [
        "# convert an array of values into a dataset matrix\n",
        "def create_dataset(df, look_back=1):\n",
        "\tdataX, dataY = [], []\n",
        "\tfor i in range(len(df)-look_back-1):\n",
        "\t\ta = df[i:(i+look_back), 0]\n",
        "\t\tdataX.append(a)\n",
        "\t\tdataY.append(df[i + look_back, 0])\n",
        "\treturn np.array(dataX), np.array(dataY)\n"
      ],
      "metadata": {
        "id": "YSdFYNDFviVx"
      },
      "execution_count": null,
      "outputs": []
    },
    {
      "cell_type": "code",
      "source": [
        "# Creating a look-back in the form of  X=t and Y=t+1\n",
        "look_back = 1\n",
        "trainX, trainY = create_dataset(train, look_back)\n",
        "testX, testY = create_dataset(test, look_back)\n"
      ],
      "metadata": {
        "id": "sphrDfGNxTyn"
      },
      "execution_count": null,
      "outputs": []
    },
    {
      "cell_type": "code",
      "source": [
        "trainX, trainY"
      ],
      "metadata": {
        "colab": {
          "base_uri": "https://localhost:8080/"
        },
        "id": "5ypNx8anyAvg",
        "outputId": "88cb6a96-63c6-4fbd-b409-2592f7c45ed5"
      },
      "execution_count": null,
      "outputs": [
        {
          "output_type": "execute_result",
          "data": {
            "text/plain": [
              "(array([[0.07067112],\n",
              "        [0.0693363 ],\n",
              "        [0.07007786],\n",
              "        ...,\n",
              "        [0.25094549],\n",
              "        [0.27245087],\n",
              "        [0.29506859]]),\n",
              " array([0.0693363 , 0.07007786, 0.07044865, ..., 0.27245087, 0.29506859,\n",
              "        0.27534297]))"
            ]
          },
          "metadata": {},
          "execution_count": 46
        }
      ]
    },
    {
      "cell_type": "code",
      "source": [
        "# reshape input to be [samples, time steps, features]\n",
        "trainX = np.reshape(trainX, (trainX.shape[0], 1, trainX.shape[1]))\n",
        "testX = np.reshape(testX, (testX.shape[0], 1, testX.shape[1]))\n"
      ],
      "metadata": {
        "id": "hoWgUQFkzzMU"
      },
      "execution_count": null,
      "outputs": []
    },
    {
      "cell_type": "code",
      "source": [
        "import math\n",
        "\n",
        "from keras.models import Sequential\n",
        "\n",
        "from keras.layers import Dense\n",
        "\n",
        "from keras.layers import LSTM\n",
        "\n",
        "from sklearn.preprocessing import MinMaxScaler\n",
        "\n",
        "from sklearn.metrics import mean_squared_error"
      ],
      "metadata": {
        "id": "eJBEnlvY07Z8"
      },
      "execution_count": null,
      "outputs": []
    },
    {
      "cell_type": "code",
      "source": [
        "#create and fit the LSTM network\n",
        "model = Sequential()\n",
        "model.add(LSTM(4, input_shape=(1, look_back)))\n",
        "model.add(Dense(1))\n",
        "model.compile(loss='mean_squared_error', optimizer='adam')\n",
        "model.fit(trainX, trainY, epochs=100, batch_size=1, verbose=2)\n"
      ],
      "metadata": {
        "colab": {
          "base_uri": "https://localhost:8080/"
        },
        "id": "uRu5ryy60fXH",
        "outputId": "dbe301c4-7644-477c-cb43-1e2f7218bbe3"
      },
      "execution_count": null,
      "outputs": [
        {
          "output_type": "stream",
          "name": "stdout",
          "text": [
            "Epoch 1/100\n",
            "5502/5502 - 10s - loss: 0.0044 - 10s/epoch - 2ms/step\n",
            "Epoch 2/100\n",
            "5502/5502 - 8s - loss: 6.2817e-05 - 8s/epoch - 1ms/step\n",
            "Epoch 3/100\n",
            "5502/5502 - 8s - loss: 6.1662e-05 - 8s/epoch - 1ms/step\n",
            "Epoch 4/100\n",
            "5502/5502 - 8s - loss: 6.3205e-05 - 8s/epoch - 1ms/step\n",
            "Epoch 5/100\n",
            "5502/5502 - 8s - loss: 6.1498e-05 - 8s/epoch - 1ms/step\n",
            "Epoch 6/100\n",
            "5502/5502 - 8s - loss: 6.1169e-05 - 8s/epoch - 1ms/step\n",
            "Epoch 7/100\n",
            "5502/5502 - 8s - loss: 6.0675e-05 - 8s/epoch - 1ms/step\n",
            "Epoch 8/100\n",
            "5502/5502 - 8s - loss: 6.2444e-05 - 8s/epoch - 1ms/step\n",
            "Epoch 9/100\n",
            "5502/5502 - 8s - loss: 6.0305e-05 - 8s/epoch - 1ms/step\n",
            "Epoch 10/100\n",
            "5502/5502 - 8s - loss: 6.1626e-05 - 8s/epoch - 1ms/step\n",
            "Epoch 11/100\n",
            "5502/5502 - 8s - loss: 6.0374e-05 - 8s/epoch - 1ms/step\n",
            "Epoch 12/100\n",
            "5502/5502 - 8s - loss: 6.0835e-05 - 8s/epoch - 1ms/step\n",
            "Epoch 13/100\n",
            "5502/5502 - 8s - loss: 6.1487e-05 - 8s/epoch - 1ms/step\n",
            "Epoch 14/100\n",
            "5502/5502 - 8s - loss: 6.1341e-05 - 8s/epoch - 1ms/step\n",
            "Epoch 15/100\n",
            "5502/5502 - 8s - loss: 5.9827e-05 - 8s/epoch - 1ms/step\n",
            "Epoch 16/100\n",
            "5502/5502 - 8s - loss: 6.1231e-05 - 8s/epoch - 1ms/step\n",
            "Epoch 17/100\n",
            "5502/5502 - 8s - loss: 5.8986e-05 - 8s/epoch - 1ms/step\n",
            "Epoch 18/100\n",
            "5502/5502 - 8s - loss: 5.8706e-05 - 8s/epoch - 1ms/step\n",
            "Epoch 19/100\n",
            "5502/5502 - 8s - loss: 5.9295e-05 - 8s/epoch - 1ms/step\n",
            "Epoch 20/100\n",
            "5502/5502 - 8s - loss: 6.0145e-05 - 8s/epoch - 1ms/step\n",
            "Epoch 21/100\n",
            "5502/5502 - 8s - loss: 5.9169e-05 - 8s/epoch - 1ms/step\n",
            "Epoch 22/100\n",
            "5502/5502 - 11s - loss: 5.9664e-05 - 11s/epoch - 2ms/step\n",
            "Epoch 23/100\n",
            "5502/5502 - 8s - loss: 6.1025e-05 - 8s/epoch - 1ms/step\n",
            "Epoch 24/100\n",
            "5502/5502 - 8s - loss: 6.0490e-05 - 8s/epoch - 1ms/step\n",
            "Epoch 25/100\n",
            "5502/5502 - 8s - loss: 5.8671e-05 - 8s/epoch - 1ms/step\n",
            "Epoch 26/100\n",
            "5502/5502 - 8s - loss: 5.8868e-05 - 8s/epoch - 1ms/step\n",
            "Epoch 27/100\n",
            "5502/5502 - 8s - loss: 5.9382e-05 - 8s/epoch - 1ms/step\n",
            "Epoch 28/100\n",
            "5502/5502 - 8s - loss: 5.8793e-05 - 8s/epoch - 1ms/step\n",
            "Epoch 29/100\n",
            "5502/5502 - 8s - loss: 5.8816e-05 - 8s/epoch - 1ms/step\n",
            "Epoch 30/100\n",
            "5502/5502 - 8s - loss: 5.8380e-05 - 8s/epoch - 1ms/step\n",
            "Epoch 31/100\n",
            "5502/5502 - 8s - loss: 6.0021e-05 - 8s/epoch - 1ms/step\n",
            "Epoch 32/100\n",
            "5502/5502 - 8s - loss: 5.9040e-05 - 8s/epoch - 1ms/step\n",
            "Epoch 33/100\n",
            "5502/5502 - 8s - loss: 5.8467e-05 - 8s/epoch - 1ms/step\n",
            "Epoch 34/100\n",
            "5502/5502 - 8s - loss: 5.9920e-05 - 8s/epoch - 1ms/step\n",
            "Epoch 35/100\n",
            "5502/5502 - 8s - loss: 5.9912e-05 - 8s/epoch - 1ms/step\n",
            "Epoch 36/100\n",
            "5502/5502 - 8s - loss: 5.8421e-05 - 8s/epoch - 1ms/step\n",
            "Epoch 37/100\n",
            "5502/5502 - 8s - loss: 5.9910e-05 - 8s/epoch - 1ms/step\n",
            "Epoch 38/100\n",
            "5502/5502 - 8s - loss: 5.7701e-05 - 8s/epoch - 1ms/step\n",
            "Epoch 39/100\n",
            "5502/5502 - 8s - loss: 6.0180e-05 - 8s/epoch - 1ms/step\n",
            "Epoch 40/100\n",
            "5502/5502 - 8s - loss: 5.9333e-05 - 8s/epoch - 1ms/step\n",
            "Epoch 41/100\n",
            "5502/5502 - 8s - loss: 5.9263e-05 - 8s/epoch - 1ms/step\n",
            "Epoch 42/100\n",
            "5502/5502 - 8s - loss: 5.9388e-05 - 8s/epoch - 1ms/step\n",
            "Epoch 43/100\n",
            "5502/5502 - 8s - loss: 5.9396e-05 - 8s/epoch - 1ms/step\n",
            "Epoch 44/100\n",
            "5502/5502 - 8s - loss: 5.8874e-05 - 8s/epoch - 1ms/step\n",
            "Epoch 45/100\n",
            "5502/5502 - 8s - loss: 5.9048e-05 - 8s/epoch - 1ms/step\n",
            "Epoch 46/100\n",
            "5502/5502 - 8s - loss: 5.6071e-05 - 8s/epoch - 1ms/step\n",
            "Epoch 47/100\n",
            "5502/5502 - 8s - loss: 5.7459e-05 - 8s/epoch - 1ms/step\n",
            "Epoch 48/100\n",
            "5502/5502 - 8s - loss: 5.9930e-05 - 8s/epoch - 1ms/step\n",
            "Epoch 49/100\n",
            "5502/5502 - 8s - loss: 5.8742e-05 - 8s/epoch - 2ms/step\n",
            "Epoch 50/100\n",
            "5502/5502 - 8s - loss: 5.7262e-05 - 8s/epoch - 1ms/step\n",
            "Epoch 51/100\n",
            "5502/5502 - 8s - loss: 5.7660e-05 - 8s/epoch - 1ms/step\n",
            "Epoch 52/100\n",
            "5502/5502 - 8s - loss: 5.7795e-05 - 8s/epoch - 1ms/step\n",
            "Epoch 53/100\n",
            "5502/5502 - 8s - loss: 5.6877e-05 - 8s/epoch - 1ms/step\n",
            "Epoch 54/100\n",
            "5502/5502 - 8s - loss: 5.8290e-05 - 8s/epoch - 1ms/step\n",
            "Epoch 55/100\n",
            "5502/5502 - 8s - loss: 5.5815e-05 - 8s/epoch - 1ms/step\n",
            "Epoch 56/100\n",
            "5502/5502 - 8s - loss: 5.6412e-05 - 8s/epoch - 1ms/step\n",
            "Epoch 57/100\n",
            "5502/5502 - 8s - loss: 5.7237e-05 - 8s/epoch - 1ms/step\n",
            "Epoch 58/100\n",
            "5502/5502 - 8s - loss: 5.7009e-05 - 8s/epoch - 1ms/step\n",
            "Epoch 59/100\n",
            "5502/5502 - 8s - loss: 5.7776e-05 - 8s/epoch - 1ms/step\n",
            "Epoch 60/100\n",
            "5502/5502 - 9s - loss: 5.5006e-05 - 9s/epoch - 2ms/step\n",
            "Epoch 61/100\n",
            "5502/5502 - 10s - loss: 5.6120e-05 - 10s/epoch - 2ms/step\n",
            "Epoch 62/100\n",
            "5502/5502 - 8s - loss: 5.5525e-05 - 8s/epoch - 1ms/step\n",
            "Epoch 63/100\n",
            "5502/5502 - 8s - loss: 5.6760e-05 - 8s/epoch - 1ms/step\n",
            "Epoch 64/100\n",
            "5502/5502 - 8s - loss: 5.5622e-05 - 8s/epoch - 1ms/step\n",
            "Epoch 65/100\n",
            "5502/5502 - 8s - loss: 5.5503e-05 - 8s/epoch - 1ms/step\n",
            "Epoch 66/100\n",
            "5502/5502 - 8s - loss: 5.4482e-05 - 8s/epoch - 1ms/step\n",
            "Epoch 67/100\n",
            "5502/5502 - 8s - loss: 5.5611e-05 - 8s/epoch - 1ms/step\n",
            "Epoch 68/100\n",
            "5502/5502 - 8s - loss: 5.7769e-05 - 8s/epoch - 1ms/step\n",
            "Epoch 69/100\n",
            "5502/5502 - 8s - loss: 5.5767e-05 - 8s/epoch - 1ms/step\n",
            "Epoch 70/100\n",
            "5502/5502 - 8s - loss: 5.6256e-05 - 8s/epoch - 1ms/step\n",
            "Epoch 71/100\n",
            "5502/5502 - 8s - loss: 5.3228e-05 - 8s/epoch - 1ms/step\n",
            "Epoch 72/100\n",
            "5502/5502 - 8s - loss: 5.4112e-05 - 8s/epoch - 1ms/step\n",
            "Epoch 73/100\n",
            "5502/5502 - 8s - loss: 5.5791e-05 - 8s/epoch - 1ms/step\n",
            "Epoch 74/100\n",
            "5502/5502 - 8s - loss: 5.5716e-05 - 8s/epoch - 1ms/step\n",
            "Epoch 75/100\n",
            "5502/5502 - 8s - loss: 5.4917e-05 - 8s/epoch - 1ms/step\n",
            "Epoch 76/100\n",
            "5502/5502 - 8s - loss: 5.6160e-05 - 8s/epoch - 1ms/step\n",
            "Epoch 77/100\n",
            "5502/5502 - 8s - loss: 5.4932e-05 - 8s/epoch - 1ms/step\n",
            "Epoch 78/100\n",
            "5502/5502 - 8s - loss: 5.4561e-05 - 8s/epoch - 1ms/step\n",
            "Epoch 79/100\n",
            "5502/5502 - 8s - loss: 5.7809e-05 - 8s/epoch - 1ms/step\n",
            "Epoch 80/100\n",
            "5502/5502 - 8s - loss: 5.6133e-05 - 8s/epoch - 1ms/step\n",
            "Epoch 81/100\n",
            "5502/5502 - 8s - loss: 5.6536e-05 - 8s/epoch - 1ms/step\n",
            "Epoch 82/100\n",
            "5502/5502 - 8s - loss: 5.5227e-05 - 8s/epoch - 1ms/step\n",
            "Epoch 83/100\n",
            "5502/5502 - 8s - loss: 5.5267e-05 - 8s/epoch - 1ms/step\n",
            "Epoch 84/100\n",
            "5502/5502 - 8s - loss: 5.4152e-05 - 8s/epoch - 1ms/step\n",
            "Epoch 85/100\n",
            "5502/5502 - 8s - loss: 5.6433e-05 - 8s/epoch - 1ms/step\n",
            "Epoch 86/100\n",
            "5502/5502 - 8s - loss: 5.5963e-05 - 8s/epoch - 1ms/step\n",
            "Epoch 87/100\n",
            "5502/5502 - 8s - loss: 5.5225e-05 - 8s/epoch - 1ms/step\n",
            "Epoch 88/100\n",
            "5502/5502 - 8s - loss: 5.4127e-05 - 8s/epoch - 1ms/step\n",
            "Epoch 89/100\n",
            "5502/5502 - 8s - loss: 5.4286e-05 - 8s/epoch - 1ms/step\n",
            "Epoch 90/100\n",
            "5502/5502 - 8s - loss: 5.5222e-05 - 8s/epoch - 1ms/step\n",
            "Epoch 91/100\n",
            "5502/5502 - 8s - loss: 5.6748e-05 - 8s/epoch - 1ms/step\n",
            "Epoch 92/100\n",
            "5502/5502 - 8s - loss: 5.6377e-05 - 8s/epoch - 1ms/step\n",
            "Epoch 93/100\n",
            "5502/5502 - 8s - loss: 5.4943e-05 - 8s/epoch - 1ms/step\n",
            "Epoch 94/100\n",
            "5502/5502 - 8s - loss: 5.4638e-05 - 8s/epoch - 1ms/step\n",
            "Epoch 95/100\n",
            "5502/5502 - 8s - loss: 5.4447e-05 - 8s/epoch - 1ms/step\n",
            "Epoch 96/100\n",
            "5502/5502 - 8s - loss: 5.5302e-05 - 8s/epoch - 1ms/step\n",
            "Epoch 97/100\n",
            "5502/5502 - 8s - loss: 5.4060e-05 - 8s/epoch - 1ms/step\n",
            "Epoch 98/100\n",
            "5502/5502 - 8s - loss: 5.4487e-05 - 8s/epoch - 1ms/step\n",
            "Epoch 99/100\n",
            "5502/5502 - 11s - loss: 5.4867e-05 - 11s/epoch - 2ms/step\n",
            "Epoch 100/100\n",
            "5502/5502 - 8s - loss: 5.4494e-05 - 8s/epoch - 1ms/step\n"
          ]
        },
        {
          "output_type": "execute_result",
          "data": {
            "text/plain": [
              "<keras.callbacks.History at 0x7fc131fb5c40>"
            ]
          },
          "metadata": {},
          "execution_count": 49
        }
      ]
    },
    {
      "cell_type": "code",
      "source": [
        "# make predictions\n",
        "trainPredict = model.predict(trainX)\n",
        "testPredict = model.predict(testX)\n",
        "# invert predictions\n",
        "trainPredict = scaler.inverse_transform(trainPredict)\n",
        "trainY = scaler.inverse_transform([trainY])\n",
        "testPredict = scaler.inverse_transform(testPredict)\n",
        "testY = scaler.inverse_transform([testY])\n",
        "# calculate root mean squared error\n",
        "trainScore = math.sqrt(mean_squared_error(trainY[0], trainPredict[:,0]))\n",
        "print('Train Score: %.2f RMSE' % (trainScore))\n",
        "testScore = math.sqrt(mean_squared_error(testY[0], testPredict[:,0]))\n",
        "print('Test Score: %.2f RMSE' % (testScore))\n"
      ],
      "metadata": {
        "colab": {
          "base_uri": "https://localhost:8080/"
        },
        "id": "R4fbLuPy5JN7",
        "outputId": "0783107c-c494-4f2e-dc3a-55e71613a4da"
      },
      "execution_count": null,
      "outputs": [
        {
          "output_type": "stream",
          "name": "stdout",
          "text": [
            "172/172 [==============================] - 1s 2ms/step\n",
            "85/85 [==============================] - 0s 2ms/step\n",
            "Train Score: 1.01 RMSE\n",
            "Test Score: 1.42 RMSE\n"
          ]
        }
      ]
    },
    {
      "cell_type": "code",
      "source": [
        "# shift train predictions for plotting\n",
        "trainPredictPlot= np.empty_like(df)\n",
        "trainPredictPlot[:, :] = np.nan\n",
        "trainPredictPlot[look_back:len(trainPredict)+look_back, :] = trainPredict\n",
        "# shift test predictions for plotting\n",
        "testPredictPlot = np.empty_like(df)\n",
        "testPredictPlot[:, :] = np.nan\n",
        "testPredictPlot[len(trainPredict)+(look_back*2)+1:len(df)-1, :] = testPredict\n",
        "# plot baseline and predictions\n",
        "plt.plot(scaler.inverse_transform(df))\n",
        "plt.plot(trainPredictPlot)\n",
        "plt.plot(testPredictPlot)\n",
        "plt.legend(['Predicted Price','Actual Price'])\n",
        "plt.show()\n"
      ],
      "metadata": {
        "colab": {
          "base_uri": "https://localhost:8080/",
          "height": 265
        },
        "id": "4kV29x5t5n87",
        "outputId": "4ec82ed9-86fd-4ff1-a3a4-8b1d9a59973f"
      },
      "execution_count": null,
      "outputs": [
        {
          "output_type": "display_data",
          "data": {
            "text/plain": [
              "<Figure size 432x288 with 1 Axes>"
            ],
            "image/png": "[encoded data removed]"
          },
          "metadata": {
            "needs_background": "light"
          }
        }
      ]
    }
  ]
}